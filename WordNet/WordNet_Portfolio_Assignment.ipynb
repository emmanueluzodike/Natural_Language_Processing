{
  "nbformat": 4,
  "nbformat_minor": 0,
  "metadata": {
    "colab": {
      "provenance": []
    },
    "kernelspec": {
      "name": "python3",
      "display_name": "Python 3"
    },
    "language_info": {
      "name": "python"
    }
  },
  "cells": [
    {
      "cell_type": "markdown",
      "source": [
        "WordNet Summary:\n",
        "\n",
        "WordNet is a lexical database of nouns, verbs, adjectives and adverbs that provides short definitions called glosses, and use examples.  WordNet links words into semantic relations including synonyms, hyponyms, meronyms, etc."
      ],
      "metadata": {
        "id": "q2Z1B60tSgDz"
      }
    },
    {
      "cell_type": "code",
      "source": [
        "import nltk\n",
        "nltk.download('all')"
      ],
      "metadata": {
        "id": "2aZeHCYMVO2r"
      },
      "execution_count": null,
      "outputs": []
    },
    {
      "cell_type": "code",
      "execution_count": null,
      "metadata": {
        "id": "hUGI9J2rR91M"
      },
      "outputs": [],
      "source": [
        "from nltk.corpus import wordnet as wn\n",
        "from nltk.wsd import lesk\n",
        "from nltk.corpus import sentiwordnet as swn"
      ]
    },
    {
      "cell_type": "code",
      "source": [
        "# output synsets of the database (noun)\n",
        "wn.synsets('relation')"
      ],
      "metadata": {
        "colab": {
          "base_uri": "https://localhost:8080/"
        },
        "id": "imPzQdaFUwjZ",
        "outputId": "bb1603df-3766-42af-8263-50d1ba2ad08c"
      },
      "execution_count": null,
      "outputs": [
        {
          "output_type": "execute_result",
          "data": {
            "text/plain": [
              "[Synset('relation.n.01'),\n",
              " Synset('sexual_intercourse.n.01'),\n",
              " Synset('relative.n.01'),\n",
              " Synset('relation.n.04'),\n",
              " Synset('relation_back.n.01'),\n",
              " Synset('relation.n.06')]"
            ]
          },
          "metadata": {},
          "execution_count": 5
        }
      ]
    },
    {
      "cell_type": "code",
      "source": [
        "# Select one sysnset from the list of synsets\n",
        "# Extract its definition, usage examples and lemmas.\n",
        "\n",
        "print(\"definition: \" + wn.synset('sexual_intercourse.n.01').definition())\n",
        "print(wn.synset('sexual_intercourse.n.01').examples())\n",
        "print(wn.synset('sexual_intercourse.n.01').lemmas())\n"
      ],
      "metadata": {
        "colab": {
          "base_uri": "https://localhost:8080/"
        },
        "id": "BNAdcKeZVmG5",
        "outputId": "0ae74b1e-9e63-446a-eb79-648823e7edd9"
      },
      "execution_count": null,
      "outputs": [
        {
          "output_type": "stream",
          "name": "stdout",
          "text": [
            "definition: the act of sexual procreation between a man and a woman; the man's penis is inserted into the woman's vagina and excited until orgasm and ejaculation occur\n",
            "[]\n",
            "[Lemma('sexual_intercourse.n.01.sexual_intercourse'), Lemma('sexual_intercourse.n.01.intercourse'), Lemma('sexual_intercourse.n.01.sex_act'), Lemma('sexual_intercourse.n.01.copulation'), Lemma('sexual_intercourse.n.01.coitus'), Lemma('sexual_intercourse.n.01.coition'), Lemma('sexual_intercourse.n.01.sexual_congress'), Lemma('sexual_intercourse.n.01.congress'), Lemma('sexual_intercourse.n.01.sexual_relation'), Lemma('sexual_intercourse.n.01.relation'), Lemma('sexual_intercourse.n.01.carnal_knowledge')]\n"
          ]
        }
      ]
    },
    {
      "cell_type": "code",
      "source": [
        "# Traversing the hierachy of selected synset\n",
        "relations = wn.synset('sexual_intercourse.n.01')\n",
        "hyp = relations.hypernyms()[0]\n",
        "top = wn.synset('entity.n.01')\n",
        "while relations:\n",
        "  print(hyp)\n",
        "  if hyp == top:\n",
        "    break\n",
        "  if hyp.hypernyms():\n",
        "    hyp = hyp.hypernyms()[0]\n"
      ],
      "metadata": {
        "colab": {
          "base_uri": "https://localhost:8080/"
        },
        "id": "6CxOufjZX4s8",
        "outputId": "9b3acfd1-c513-42cb-9522-abcd748ad7ce"
      },
      "execution_count": null,
      "outputs": [
        {
          "output_type": "stream",
          "name": "stdout",
          "text": [
            "Synset('sexual_activity.n.01')\n",
            "Synset('bodily_process.n.01')\n",
            "Synset('organic_process.n.01')\n",
            "Synset('process.n.06')\n",
            "Synset('physical_entity.n.01')\n",
            "Synset('entity.n.01')\n"
          ]
        }
      ]
    },
    {
      "cell_type": "markdown",
      "source": [
        "In a WordNet hierachy for nouns. the top-most noun level is called entity. Each sysnset has a hypernym and hyponym relationship. The top-level of the noun hierachy consists of abstract concepts while the lowe level synsets represent more specific categories."
      ],
      "metadata": {
        "id": "yjhiKWWa-O2J"
      }
    },
    {
      "cell_type": "code",
      "source": [
        "# print hypernyms, hyponyms, meronyms, holonyms, antonym\n",
        "print(wn.synset('sexual_intercourse.n.01').hypernyms())\n",
        "print(wn.synset('sexual_intercourse.n.01').hyponyms())"
      ],
      "metadata": {
        "colab": {
          "base_uri": "https://localhost:8080/"
        },
        "id": "lgSz39tQcfq7",
        "outputId": "4a08d05e-3b7c-45fb-ff27-b838ca3e6610"
      },
      "execution_count": null,
      "outputs": [
        {
          "output_type": "stream",
          "name": "stdout",
          "text": [
            "[Synset('sexual_activity.n.01')]\n",
            "[Synset('defloration.n.02'), Synset('fuck.n.01'), Synset('hank_panky.n.01'), Synset('penetration.n.06'), Synset('unlawful_carnal_knowledge.n.01')]\n"
          ]
        }
      ]
    },
    {
      "cell_type": "code",
      "source": [
        "# output meronyms\n",
        "wn.synset('sexual_intercourse.n.01').part_meronyms()"
      ],
      "metadata": {
        "id": "5ifHJ_rAfXUZ",
        "colab": {
          "base_uri": "https://localhost:8080/"
        },
        "outputId": "605093e7-52c7-4688-ca61-c457da6c2b50"
      },
      "execution_count": null,
      "outputs": [
        {
          "output_type": "execute_result",
          "data": {
            "text/plain": [
              "[Synset('insemination.n.02')]"
            ]
          },
          "metadata": {},
          "execution_count": 13
        }
      ]
    },
    {
      "cell_type": "code",
      "source": [
        "wn.synset('sexual_intercourse.n.01').part_holonyms()"
      ],
      "metadata": {
        "colab": {
          "base_uri": "https://localhost:8080/"
        },
        "id": "q8gBtLTUQs-X",
        "outputId": "c7be5518-bb5a-418e-fe2e-5e304337a6c0"
      },
      "execution_count": null,
      "outputs": [
        {
          "output_type": "execute_result",
          "data": {
            "text/plain": [
              "[]"
            ]
          },
          "metadata": {},
          "execution_count": 14
        }
      ]
    },
    {
      "cell_type": "code",
      "source": [
        "from nltk.corpus.reader.wordnet import Synset\n",
        "#output antonyms\n",
        "relations = wn.synsets('relations', pos=wn.NOUN)[2]\n",
        "Synset('sexual_intercourse.n.01')\n",
        "relations.lemmas()\n",
        "relations.lemmas()[0].antonyms()"
      ],
      "metadata": {
        "colab": {
          "base_uri": "https://localhost:8080/"
        },
        "id": "RSbeZx9xd4nN",
        "outputId": "22dc34a3-a4d2-4ea1-ab06-3804626debab"
      },
      "execution_count": null,
      "outputs": [
        {
          "output_type": "execute_result",
          "data": {
            "text/plain": [
              "[]"
            ]
          },
          "metadata": {},
          "execution_count": 15
        }
      ]
    },
    {
      "cell_type": "markdown",
      "source": [
        "Select Verb"
      ],
      "metadata": {
        "id": "f2vYWX4eRcFT"
      }
    },
    {
      "cell_type": "code",
      "source": [
        "# Select verb and output all synsets\n",
        "wn.synsets('run')"
      ],
      "metadata": {
        "colab": {
          "base_uri": "https://localhost:8080/"
        },
        "id": "DAP9ckAlRbfj",
        "outputId": "a1727b9c-cf94-4145-f55e-cbd4e57388b0"
      },
      "execution_count": null,
      "outputs": [
        {
          "output_type": "execute_result",
          "data": {
            "text/plain": [
              "[Synset('run.n.01'),\n",
              " Synset('test.n.05'),\n",
              " Synset('footrace.n.01'),\n",
              " Synset('streak.n.01'),\n",
              " Synset('run.n.05'),\n",
              " Synset('run.n.06'),\n",
              " Synset('run.n.07'),\n",
              " Synset('run.n.08'),\n",
              " Synset('run.n.09'),\n",
              " Synset('run.n.10'),\n",
              " Synset('rivulet.n.01'),\n",
              " Synset('political_campaign.n.01'),\n",
              " Synset('run.n.13'),\n",
              " Synset('discharge.n.06'),\n",
              " Synset('run.n.15'),\n",
              " Synset('run.n.16'),\n",
              " Synset('run.v.01'),\n",
              " Synset('scat.v.01'),\n",
              " Synset('run.v.03'),\n",
              " Synset('operate.v.01'),\n",
              " Synset('run.v.05'),\n",
              " Synset('run.v.06'),\n",
              " Synset('function.v.01'),\n",
              " Synset('range.v.01'),\n",
              " Synset('campaign.v.01'),\n",
              " Synset('play.v.18'),\n",
              " Synset('run.v.11'),\n",
              " Synset('tend.v.01'),\n",
              " Synset('run.v.13'),\n",
              " Synset('run.v.14'),\n",
              " Synset('run.v.15'),\n",
              " Synset('run.v.16'),\n",
              " Synset('prevail.v.03'),\n",
              " Synset('run.v.18'),\n",
              " Synset('run.v.19'),\n",
              " Synset('carry.v.15'),\n",
              " Synset('run.v.21'),\n",
              " Synset('guide.v.05'),\n",
              " Synset('run.v.23'),\n",
              " Synset('run.v.24'),\n",
              " Synset('run.v.25'),\n",
              " Synset('run.v.26'),\n",
              " Synset('run.v.27'),\n",
              " Synset('run.v.28'),\n",
              " Synset('run.v.29'),\n",
              " Synset('run.v.30'),\n",
              " Synset('run.v.31'),\n",
              " Synset('run.v.32'),\n",
              " Synset('run.v.33'),\n",
              " Synset('run.v.34'),\n",
              " Synset('ply.v.03'),\n",
              " Synset('hunt.v.01'),\n",
              " Synset('race.v.02'),\n",
              " Synset('move.v.13'),\n",
              " Synset('melt.v.01'),\n",
              " Synset('ladder.v.01'),\n",
              " Synset('run.v.41')]"
            ]
          },
          "metadata": {},
          "execution_count": 16
        }
      ]
    },
    {
      "cell_type": "code",
      "source": [
        "# Select one sysnset from the list of synsets\n",
        "# Extract its definition, usage examples and lemmas.\n",
        "\n",
        "print(wn.synset('run.v.04').definition())\n",
        "print(wn.synset('run.v.04').examples())\n",
        "print(wn.synset('run.v.04').lemmas())"
      ],
      "metadata": {
        "colab": {
          "base_uri": "https://localhost:8080/"
        },
        "id": "kCGQGnJfVY0F",
        "outputId": "bd5636a4-489f-4fcd-f2dd-e1157da4d094"
      },
      "execution_count": null,
      "outputs": [
        {
          "output_type": "stream",
          "name": "stdout",
          "text": [
            "direct or control; projects, businesses, etc.\n",
            "['She is running a relief operation in the Sudan']\n",
            "[Lemma('operate.v.01.operate'), Lemma('operate.v.01.run')]\n"
          ]
        }
      ]
    },
    {
      "cell_type": "code",
      "source": [
        "# Traversing the hieravhy of selected synset\n",
        "# Get the synset for \"cook\"\n",
        "cook_synset = wn.synset('run.v.4')\n",
        "\n",
        "# Traverse the hypernym tree of \"cook\"\n",
        "hypernyms = cook_synset.hypernyms()\n",
        "while hypernyms:\n",
        "    # Print the current synset and its definition\n",
        "    print(f\"{hypernyms[0].name()}\")\n",
        "\n",
        "    # Move up the tree to the next hypernym\n",
        "    hypernyms = hypernyms[0].hypernyms()"
      ],
      "metadata": {
        "colab": {
          "base_uri": "https://localhost:8080/"
        },
        "id": "TLl0OoPaV8gm",
        "outputId": "246adebb-1da7-4bfc-ea9c-aad7c001d716"
      },
      "execution_count": null,
      "outputs": [
        {
          "output_type": "stream",
          "name": "stdout",
          "text": [
            "direct.v.04\n",
            "manage.v.02\n",
            "control.v.01\n"
          ]
        }
      ]
    },
    {
      "cell_type": "markdown",
      "source": [
        "With Verbs, the hierachy is more so a set of a related words that have similar meanings and it does not have a common top most level synset"
      ],
      "metadata": {
        "id": "JcptI6PXBth7"
      }
    },
    {
      "cell_type": "code",
      "source": [
        "# Word to find different forms of\n",
        "word = 'run'\n",
        "\n",
        "# Get all possible forms of the word\n",
        "forms = set()\n",
        "for pos in ['n', 'v', 'a', 'r']:\n",
        "    for form in wn._morphy(word, pos):\n",
        "        forms.add(form)\n",
        "\n",
        "# Print the different forms of the word\n",
        "print(f\"Different forms of '{word}':\")\n",
        "for form in forms:\n",
        "    print(form)"
      ],
      "metadata": {
        "colab": {
          "base_uri": "https://localhost:8080/"
        },
        "id": "h1gEv2-KYh9B",
        "outputId": "eb996f8b-458e-4809-924f-aa0477b0dfe6"
      },
      "execution_count": null,
      "outputs": [
        {
          "output_type": "stream",
          "name": "stdout",
          "text": [
            "Different forms of 'run':\n",
            "run\n"
          ]
        }
      ]
    },
    {
      "cell_type": "markdown",
      "source": [
        "Two words i think are similar"
      ],
      "metadata": {
        "id": "UTUhZ1V7Tgw0"
      }
    },
    {
      "cell_type": "code",
      "source": [
        "# Word one\n",
        "wn.synsets('throw')"
      ],
      "metadata": {
        "colab": {
          "base_uri": "https://localhost:8080/"
        },
        "id": "vQOiRx2UTZR3",
        "outputId": "3b4c76cb-90da-4e2e-d524-e2cd78ce4f75"
      },
      "execution_count": null,
      "outputs": [
        {
          "output_type": "execute_result",
          "data": {
            "text/plain": [
              "[Synset('throw.n.01'),\n",
              " Synset('throw.n.02'),\n",
              " Synset('throw.n.03'),\n",
              " Synset('throw.n.04'),\n",
              " Synset('throw.n.05'),\n",
              " Synset('throw.v.01'),\n",
              " Synset('throw.v.02'),\n",
              " Synset('shed.v.01'),\n",
              " Synset('throw.v.04'),\n",
              " Synset('give.v.07'),\n",
              " Synset('throw.v.06'),\n",
              " Synset('project.v.10'),\n",
              " Synset('throw.v.08'),\n",
              " Synset('bewilder.v.02'),\n",
              " Synset('hurl.v.03'),\n",
              " Synset('hold.v.03'),\n",
              " Synset('throw.v.12'),\n",
              " Synset('throw.v.13'),\n",
              " Synset('throw.v.14'),\n",
              " Synset('confuse.v.02')]"
            ]
          },
          "metadata": {},
          "execution_count": 37
        }
      ]
    },
    {
      "cell_type": "code",
      "source": [
        "throw = wn.synset('throw.v.01')"
      ],
      "metadata": {
        "id": "Nw78H9TbUkyL"
      },
      "execution_count": null,
      "outputs": []
    },
    {
      "cell_type": "code",
      "source": [
        "# Word two\n",
        "wn.synsets('toss')\n"
      ],
      "metadata": {
        "colab": {
          "base_uri": "https://localhost:8080/"
        },
        "id": "r92xjOEKTtrk",
        "outputId": "4181b405-d082-4370-fc69-faffcad193ae"
      },
      "execution_count": null,
      "outputs": [
        {
          "output_type": "execute_result",
          "data": {
            "text/plain": [
              "[Synset('flip.n.04'),\n",
              " Synset('pass.n.15'),\n",
              " Synset('toss.n.03'),\n",
              " Synset('flip.v.06'),\n",
              " Synset('flip.v.01'),\n",
              " Synset('chuck.v.01'),\n",
              " Synset('convulse.v.03'),\n",
              " Synset('discard.v.01'),\n",
              " Synset('toss.v.06')]"
            ]
          },
          "metadata": {},
          "execution_count": 41
        }
      ]
    },
    {
      "cell_type": "code",
      "source": [
        "chuck = wn.synset('chuck.v.01')"
      ],
      "metadata": {
        "id": "ucVun7DuUihh"
      },
      "execution_count": null,
      "outputs": []
    },
    {
      "cell_type": "code",
      "source": [
        "# Wu-Palmer algo\n",
        "wn.wup_similarity(throw, chuck)"
      ],
      "metadata": {
        "colab": {
          "base_uri": "https://localhost:8080/"
        },
        "id": "c1ofXuFKUx8E",
        "outputId": "744d98ed-85a0-487d-c5fa-0dbad8f71560"
      },
      "execution_count": null,
      "outputs": [
        {
          "output_type": "execute_result",
          "data": {
            "text/plain": [
              "0.8571428571428571"
            ]
          },
          "metadata": {},
          "execution_count": 52
        }
      ]
    },
    {
      "cell_type": "code",
      "source": [
        "# senses of `throw`\n",
        "for ss in wn.synsets('throw'):\n",
        "  print(ss, ss.definition())"
      ],
      "metadata": {
        "id": "aloN-JE8YG4S",
        "colab": {
          "base_uri": "https://localhost:8080/"
        },
        "outputId": "250aad05-813c-4e86-9074-b9cfe2a6d5c6"
      },
      "execution_count": null,
      "outputs": [
        {
          "output_type": "stream",
          "name": "stdout",
          "text": [
            "Synset('throw.n.01') the act of throwing (propelling something with a rapid movement of the arm and wrist)\n",
            "Synset('throw.n.02') a single chance or instance\n",
            "Synset('throw.n.03') the maximum movement available to a pivoted or reciprocating piece by a cam\n",
            "Synset('throw.n.04') bedclothes consisting of a lightweight cloth covering (an afghan or bedspread) that is casually thrown over something\n",
            "Synset('throw.n.05') casting an object in order to determine an outcome randomly\n",
            "Synset('throw.v.01') propel through the air\n",
            "Synset('throw.v.02') move violently, energetically, or carelessly\n",
            "Synset('shed.v.01') get rid of\n",
            "Synset('throw.v.04') place or put with great energy\n",
            "Synset('give.v.07') convey or communicate; of a smile, a look, a physical gesture\n",
            "Synset('throw.v.06') cause to go on or to be engaged or set in operation\n",
            "Synset('project.v.10') put or send forth\n",
            "Synset('throw.v.08') to put into a state or activity hastily, suddenly, or carelessly\n",
            "Synset('bewilder.v.02') cause to be confused emotionally\n",
            "Synset('hurl.v.03') utter with force; utter vehemently\n",
            "Synset('hold.v.03') organize or be responsible for\n",
            "Synset('throw.v.12') make on a potter's wheel\n",
            "Synset('throw.v.13') cause to fall off\n",
            "Synset('throw.v.14') throw (a die) out onto a flat surface\n",
            "Synset('confuse.v.02') be confusing or perplexing to; cause to be unable to think clearly\n"
          ]
        }
      ]
    },
    {
      "cell_type": "code",
      "source": [
        "# Lesk algo\n",
        "air = [\"I\", \"can\", \"throw\", \"the\", \"ball\", \"farther\", \"than\", \"you\", \"can\", \".\"]\n",
        "print(lesk(air, 'throw'))\n"
      ],
      "metadata": {
        "colab": {
          "base_uri": "https://localhost:8080/"
        },
        "id": "FKLQKphgVZ13",
        "outputId": "5dbae355-14ca-40be-e261-486491dcf39d"
      },
      "execution_count": null,
      "outputs": [
        {
          "output_type": "stream",
          "name": "stdout",
          "text": [
            "Synset('throw.v.14')\n"
          ]
        }
      ]
    },
    {
      "cell_type": "code",
      "source": [
        "# senses of `chuck`\n",
        "for ss in wn.synsets('toss'):\n",
        "  print(ss, ss.definition())"
      ],
      "metadata": {
        "id": "ovHMBD7MZnM_"
      },
      "execution_count": null,
      "outputs": []
    },
    {
      "cell_type": "code",
      "source": [
        "air = [\"She\", \"decided\", \"to\", \"toss\", \"the\", \"coin\", \"to\", \"make\", \"a\", \"decision\", \".\"]\n",
        "print(lesk(air, 'toss'))"
      ],
      "metadata": {
        "colab": {
          "base_uri": "https://localhost:8080/"
        },
        "id": "oJFNWetnaOdx",
        "outputId": "5d1d9cfb-bd57-4603-af6c-7a377fe27cb7"
      },
      "execution_count": null,
      "outputs": [
        {
          "output_type": "stream",
          "name": "stdout",
          "text": [
            "Synset('flip.n.04')\n"
          ]
        }
      ]
    },
    {
      "cell_type": "markdown",
      "source": [
        "Observation:\n",
        "the synset `chuck.v.01` and `throw.v.01` scored a 0.86 using the Wu-Palmer algorithm. Which means, according to the algorithm, the synsets are very similar. \n",
        "\n",
        "The lesk algorithm got the wrong sense for `throw` it thought i was reffering to `throw.v.14` which is to throw a die on a surface rather than throwing an objet in the air.\n",
        "\n",
        "The lesk algorith got the correct sense for toss however. it was able to figure out it meant flip a coin."
      ],
      "metadata": {
        "id": "e-ksapgNOlA3"
      }
    },
    {
      "cell_type": "markdown",
      "source": [
        "sentiWordNet is a lexical resource built on top of WordNet that assigns 3 sentiment scores for each synset: positivity, negativity and objectivity. You can use sentiWordNet to determine the ratio of positive to negative comments in a youtube comment section\n"
      ],
      "metadata": {
        "id": "NLyIJiccazBJ"
      }
    },
    {
      "cell_type": "code",
      "source": [
        "senti_list = list(swn.senti_synsets('bastard'))\n",
        "for item in senti_list:\n",
        "  print(item)"
      ],
      "metadata": {
        "colab": {
          "base_uri": "https://localhost:8080/"
        },
        "id": "RaAOVxoma2iy",
        "outputId": "27687532-eada-4596-8e14-7a58d997da98"
      },
      "execution_count": null,
      "outputs": [
        {
          "output_type": "stream",
          "name": "stdout",
          "text": [
            "<position.n.03: PosScore=0.0 NegScore=0.0>\n",
            "<view.n.02: PosScore=0.0 NegScore=0.0>\n",
            "<view.n.03: PosScore=0.0 NegScore=0.0>\n",
            "<view.n.04: PosScore=0.0 NegScore=0.0>\n",
            "<opinion.n.01: PosScore=0.0 NegScore=0.625>\n",
            "<opinion.n.02: PosScore=0.0 NegScore=0.5>\n",
            "<view.n.07: PosScore=0.0 NegScore=0.0>\n",
            "<scene.n.08: PosScore=0.0 NegScore=0.0>\n",
            "<horizon.n.02: PosScore=0.125 NegScore=0.0>\n",
            "<view.n.10: PosScore=0.0 NegScore=0.25>\n",
            "<see.v.05: PosScore=0.125 NegScore=0.0>\n",
            "<view.v.02: PosScore=0.25 NegScore=0.0>\n",
            "<watch.v.03: PosScore=0.0 NegScore=0.0>\n"
          ]
        }
      ]
    },
    {
      "cell_type": "code",
      "source": [
        "import sys\n",
        "from nltk.tokenize import word_tokenize\n",
        "\n",
        "sentence = \"Although the view from the mountain top was breathtakingly beautiful, the steep and rocky climb was treacherous and exhausting.\"\n",
        "tokens = sentence.split()\n",
        "neg, pos = 0, 0\n",
        "\n",
        "for token in tokens:\n",
        "  syn_list = list(swn.senti_synsets(token))\n",
        "  for item in syn_list:\n",
        "    neg += item.neg_score()\n",
        "    pos += item.pos_score()\n",
        "\n",
        "  print(\"Polarity of \" + token + \". Positive: \" + str(pos) + \" Negative: \" + str(neg))\n",
        "  neg, pos = 0, 0\n",
        "    \n",
        "    \n",
        "  "
      ],
      "metadata": {
        "colab": {
          "base_uri": "https://localhost:8080/"
        },
        "id": "iijukrm3UqXl",
        "outputId": "b227c32f-c070-4ae0-a925-0da6c9cc0af4"
      },
      "execution_count": null,
      "outputs": [
        {
          "output_type": "stream",
          "name": "stdout",
          "text": [
            "Polarity of Although. Positive: 0 Negative: 0\n",
            "Polarity of the. Positive: 0 Negative: 0\n",
            "Polarity of view. Positive: 0.5 Negative: 1.375\n",
            "Polarity of from. Positive: 0 Negative: 0\n",
            "Polarity of the. Positive: 0 Negative: 0\n",
            "Polarity of mountain. Positive: 0.0 Negative: 0.0\n",
            "Polarity of top. Positive: 0.125 Negative: 0.375\n",
            "Polarity of was. Positive: 0.375 Negative: 0.25\n",
            "Polarity of breathtakingly. Positive: 0 Negative: 0\n",
            "Polarity of beautiful,. Positive: 0 Negative: 0\n",
            "Polarity of the. Positive: 0 Negative: 0\n",
            "Polarity of steep. Positive: 0.375 Negative: 0.75\n",
            "Polarity of and. Positive: 0 Negative: 0\n",
            "Polarity of rocky. Positive: 0.0 Negative: 1.75\n",
            "Polarity of climb. Positive: 0.375 Negative: 0.0\n",
            "Polarity of was. Positive: 0.375 Negative: 0.25\n",
            "Polarity of treacherous. Positive: 0.125 Negative: 1.0\n",
            "Polarity of and. Positive: 0 Negative: 0\n",
            "Polarity of exhausting.. Positive: 0 Negative: 0\n"
          ]
        }
      ]
    },
    {
      "cell_type": "markdown",
      "source": [
        "All of these scores makes no sense. Why is `view` given such a negative score? i check and it gave the senti synset of view, `opinion.n.01` a negative score of 0.625 and a 0.0 positive score. Why is `opinion` negative according to sentiWordNet. I also find it strange `breathtakingly` didnt get a positive score.  "
      ],
      "metadata": {
        "id": "pRE691tdYJAF"
      }
    },
    {
      "cell_type": "code",
      "source": [
        "import sys\n",
        "from nltk.tokenize import word_tokenize\n",
        "\n",
        "sentence = \"Although the view from the mountain top was breathtakingly beautiful, the steep and rocky climb was treacherous and exhausting.\"\n",
        "\n",
        "neg = 0\n",
        "pos = 0\n",
        "tokens = sentence.split()\n",
        "for token in tokens:\n",
        "    syn_list = list(swn.senti_synsets(token))\n",
        "    if syn_list:\n",
        "        syn = syn_list[0]\n",
        "        neg += syn.neg_score()\n",
        "        pos += syn.pos_score()\n",
        "    \n",
        "print(\"neg\\tpos counts\")\n",
        "print(neg, '\\t', pos)\n",
        "\n",
        "#***************************************************"
      ],
      "metadata": {
        "colab": {
          "base_uri": "https://localhost:8080/"
        },
        "id": "W0j_Vycycr5X",
        "outputId": "cadfd14d-5d8a-4c76-99fb-d997fae394f7"
      },
      "execution_count": null,
      "outputs": [
        {
          "output_type": "stream",
          "name": "stdout",
          "text": [
            "neg\tpos counts\n",
            "0.625 \t 0.0\n"
          ]
        }
      ]
    },
    {
      "cell_type": "markdown",
      "source": [
        "sentence about collocation"
      ],
      "metadata": {
        "id": "zVmZ8bDEflv_"
      }
    },
    {
      "cell_type": "code",
      "source": [
        "import nltk\n",
        "from nltk.book import *\n",
        "text4"
      ],
      "metadata": {
        "id": "YLm_7R25fhn1"
      },
      "execution_count": null,
      "outputs": []
    },
    {
      "cell_type": "code",
      "source": [
        "# get collocations\n",
        "text4.collocations()"
      ],
      "metadata": {
        "colab": {
          "base_uri": "https://localhost:8080/"
        },
        "id": "tKfGV8dXgSyn",
        "outputId": "33507dfa-b350-4817-bd23-9968e58a9804"
      },
      "execution_count": null,
      "outputs": [
        {
          "output_type": "stream",
          "name": "stdout",
          "text": [
            "United States; fellow citizens; years ago; four years; Federal\n",
            "Government; General Government; American people; Vice President; God\n",
            "bless; Chief Justice; one another; fellow Americans; Old World;\n",
            "Almighty God; Fellow citizens; Chief Magistrate; every citizen; Indian\n",
            "tribes; public debt; foreign nations\n"
          ]
        }
      ]
    },
    {
      "cell_type": "code",
      "source": [
        "text = ' '.join(text4.tokens)\n",
        "text[:66]"
      ],
      "metadata": {
        "colab": {
          "base_uri": "https://localhost:8080/",
          "height": 35
        },
        "id": "t7-raK3vjAmv",
        "outputId": "c10914a3-488f-48ad-e470-f80b682ac4f5"
      },
      "execution_count": null,
      "outputs": [
        {
          "output_type": "execute_result",
          "data": {
            "text/plain": [
              "'Fellow - Citizens of the Senate and of the House of Representative'"
            ],
            "application/vnd.google.colaboratory.intrinsic+json": {
              "type": "string"
            }
          },
          "metadata": {},
          "execution_count": 65
        }
      ]
    },
    {
      "cell_type": "code",
      "source": [
        "import math\n",
        "vocab = len(set(text4))\n",
        "hg= text.count('Fellow Citizens') / vocab\n",
        "print(\"p(Fellow Citizens) = \", hg)\n",
        "h = text.count('Fellow')/vocab\n",
        "print(\"p(Fellow) = \", h)\n",
        "g = text.count('Citizens')/vocab\n",
        "print('p(Citizens) = ', g)\n",
        "pmi = math.log2(hg / (h * g))\n",
        "print('pmi = ', pmi)"
      ],
      "metadata": {
        "colab": {
          "base_uri": "https://localhost:8080/"
        },
        "id": "n-BT-O62jwcN",
        "outputId": "ce9b9873-f643-467f-c5ba-c9444b01d0d9"
      },
      "execution_count": null,
      "outputs": [
        {
          "output_type": "stream",
          "name": "stdout",
          "text": [
            "p(Fellow Citizens) =  9.975062344139652e-05\n",
            "p(Fellow) =  0.002394014962593516\n",
            "p(Citizens) =  0.0006982543640897755\n",
            "pmi =  5.898997193450885\n"
          ]
        }
      ]
    },
    {
      "cell_type": "code",
      "source": [
        "hg = text.count('of the')/vocab\n",
        "print(\"p(of the) = \",hg )\n",
        "o = text.count('of')/vocab\n",
        "print(\"p(of) = \", o)\n",
        "t = text.count('the ')/vocab # space so it doesn't capture 'their' etc.\n",
        "print('p(the) = ', t)\n",
        "pmi = math.log2(hg / (o * t))\n",
        "print('pmi = ', pmi)"
      ],
      "metadata": {
        "id": "90TH2IJDlaII",
        "outputId": "0cb3e970-7ed3-475c-d0b2-8c8a012f53c8",
        "colab": {
          "base_uri": "https://localhost:8080/"
        }
      },
      "execution_count": null,
      "outputs": [
        {
          "output_type": "stream",
          "name": "stdout",
          "text": [
            "p(of the) =  0.20089775561097256\n",
            "p(of) =  0.7487281795511221\n",
            "p(the) =  0.9533167082294264\n",
            "pmi =  -1.8290080938996587\n"
          ]
        }
      ]
    }
  ]
}