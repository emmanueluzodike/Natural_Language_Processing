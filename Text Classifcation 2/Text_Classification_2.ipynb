{
  "cells": [
    {
      "cell_type": "markdown",
      "metadata": {
        "id": "view-in-github",
        "colab_type": "text"
      },
      "source": [
        "<a href=\"https://colab.research.google.com/github/emmanueluzodike/Natural_Language_Processing/blob/main/Text%20Classifcation%202/Text_Classification_2.ipynb\" target=\"_parent\"><img src=\"https://colab.research.google.com/assets/colab-badge.svg\" alt=\"Open In Colab\"/></a>"
      ]
    },
    {
      "cell_type": "code",
      "execution_count": null,
      "metadata": {
        "id": "bKzHTvsGObZO"
      },
      "outputs": [],
      "source": [
        "!pip install tensorflow keras"
      ]
    },
    {
      "cell_type": "code",
      "execution_count": null,
      "metadata": {
        "id": "Dowvk_amaP9R"
      },
      "outputs": [],
      "source": [
        "#imports \n",
        "import csv\n",
        "import pandas as pd\n",
        "import nltk\n",
        "import tensorflow as tf\n",
        "from tensorflow import keras\n",
        "from tensorflow.keras import datasets, layers, models\n",
        "from tensorflow.keras.models import Sequential\n",
        "from tensorflow.keras.layers import Dense, Dropout, Embedding, SpatialDropout1D\n",
        "from tensorflow.keras.utils import to_categorical\n",
        "from keras.layers import LSTM, Dense, Embedding, Dropout, Bidirectional, GRU\n",
        "from tensorflow.keras.callbacks import EarlyStopping\n",
        "import numpy as np\n",
        "from sklearn.metrics import classification_report\n",
        "nltk.download('popular')"
      ]
    },
    {
      "cell_type": "markdown",
      "metadata": {
        "id": "AhCEwz0BJJjD"
      },
      "source": [
        "\n",
        "\n",
        "DATA DETAILS\n",
        "\n",
        "This dataset contains Item description as a feature and 4 different categories / classes - Household, Electronics, Books, Clothing & Accessories.\n",
        "\n",
        "The model should be able to predict the catogry of an item given its description\n"
      ]
    },
    {
      "cell_type": "code",
      "execution_count": 4,
      "metadata": {
        "id": "KPJBQqfSJLpm"
      },
      "outputs": [],
      "source": [
        "with open(\"/content/ecommerceDataset(3).csv\", encoding='utf-8') as file:\n",
        "  data = pd.read_csv(file) "
      ]
    },
    {
      "cell_type": "code",
      "execution_count": 5,
      "metadata": {
        "id": "8Xhr1YyDJOAb"
      },
      "outputs": [],
      "source": [
        "data.columns=['category', 'description']"
      ]
    },
    {
      "cell_type": "code",
      "execution_count": 6,
      "metadata": {
        "colab": {
          "base_uri": "https://localhost:8080/",
          "height": 450
        },
        "id": "MHUChVVdJUQ8",
        "outputId": "cbaf237f-00c6-48ff-f63e-07f6f840bd87"
      },
      "outputs": [
        {
          "output_type": "display_data",
          "data": {
            "text/plain": [
              "<Figure size 640x480 with 1 Axes>"
            ],
            "image/png": "[encoded data removed]"
          },
          "metadata": {}
        }
      ],
      "source": [
        "import matplotlib.pyplot as plt\n",
        "\n",
        "# Plot categroty distribution\n",
        "class_counts = data['category'].value_counts()\n",
        "plt.bar(class_counts.index, class_counts.values)\n",
        "plt.xlabel('Category')\n",
        "plt.ylabel('Count')\n",
        "plt.show()"
      ]
    },
    {
      "cell_type": "markdown",
      "metadata": {
        "id": "cQoZbhLqJa_W"
      },
      "source": [
        "Text Preprocessing"
      ]
    },
    {
      "cell_type": "code",
      "execution_count": 7,
      "metadata": {
        "id": "Yx51BeuIJiJO"
      },
      "outputs": [],
      "source": [
        "data.dropna(subset=['description', 'category'], inplace=True)  # Remove empty rows\n",
        "data.drop_duplicates(subset=['description', 'category'], inplace=True)  # Remove duplicates"
      ]
    },
    {
      "cell_type": "code",
      "execution_count": 7,
      "metadata": {
        "colab": {
          "base_uri": "https://localhost:8080/",
          "height": 424
        },
        "id": "68ASEW2beQ-3",
        "outputId": "8462dcec-6fab-4045-db15-021c3bf1f2ae"
      },
      "outputs": [
        {
          "output_type": "execute_result",
          "data": {
            "text/plain": [
              "          category                                        description\n",
              "0        Household  SAF 'Floral' Framed Painting (Wood, 30 inch x ...\n",
              "1        Household  SAF 'UV Textured Modern Art Print Framed' Pain...\n",
              "2        Household  SAF Flower Print Framed Painting (Synthetic, 1...\n",
              "3        Household  Incredible Gifts India Wooden Happy Birthday U...\n",
              "4        Household  Pitaara Box Romantic Venice Canvas Painting 6m...\n",
              "...            ...                                                ...\n",
              "50401  Electronics  Micromax Bharat 5 Plus Zero impact on visual d...\n",
              "50402  Electronics  Microsoft Lumia 550 8GB 4G Black Microsoft lum...\n",
              "50406  Electronics  Microsoft Lumia 535 (Black, 8GB) Colour:Black ...\n",
              "50407  Electronics  Karbonn Titanium Wind W4 (White) Karbonn Titan...\n",
              "50409  Electronics  Nokia Lumia 530 (Dual SIM, Grey) Colour:Grey  ...\n",
              "\n",
              "[27801 rows x 2 columns]"
            ],
            "text/html": [
              "\n",
              "  <div id=\"df-91689091-40da-4ce1-a7a0-fca89fff3a9d\">\n",
              "    <div class=\"colab-df-container\">\n",
              "      <div>\n",
              "<style scoped>\n",
              "    .dataframe tbody tr th:only-of-type {\n",
              "        vertical-align: middle;\n",
              "    }\n",
              "\n",
              "    .dataframe tbody tr th {\n",
              "        vertical-align: top;\n",
              "    }\n",
              "\n",
              "    .dataframe thead th {\n",
              "        text-align: right;\n",
              "    }\n",
              "</style>\n",
              "<table border=\"1\" class=\"dataframe\">\n",
              "  <thead>\n",
              "    <tr style=\"text-align: right;\">\n",
              "      <th></th>\n",
              "      <th>category</th>\n",
              "      <th>description</th>\n",
              "    </tr>\n",
              "  </thead>\n",
              "  <tbody>\n",
              "    <tr>\n",
              "      <th>0</th>\n",
              "      <td>Household</td>\n",
              "      <td>SAF 'Floral' Framed Painting (Wood, 30 inch x ...</td>\n",
              "    </tr>\n",
              "    <tr>\n",
              "      <th>1</th>\n",
              "      <td>Household</td>\n",
              "      <td>SAF 'UV Textured Modern Art Print Framed' Pain...</td>\n",
              "    </tr>\n",
              "    <tr>\n",
              "      <th>2</th>\n",
              "      <td>Household</td>\n",
              "      <td>SAF Flower Print Framed Painting (Synthetic, 1...</td>\n",
              "    </tr>\n",
              "    <tr>\n",
              "      <th>3</th>\n",
              "      <td>Household</td>\n",
              "      <td>Incredible Gifts India Wooden Happy Birthday U...</td>\n",
              "    </tr>\n",
              "    <tr>\n",
              "      <th>4</th>\n",
              "      <td>Household</td>\n",
              "      <td>Pitaara Box Romantic Venice Canvas Painting 6m...</td>\n",
              "    </tr>\n",
              "    <tr>\n",
              "      <th>...</th>\n",
              "      <td>...</td>\n",
              "      <td>...</td>\n",
              "    </tr>\n",
              "    <tr>\n",
              "      <th>50401</th>\n",
              "      <td>Electronics</td>\n",
              "      <td>Micromax Bharat 5 Plus Zero impact on visual d...</td>\n",
              "    </tr>\n",
              "    <tr>\n",
              "      <th>50402</th>\n",
              "      <td>Electronics</td>\n",
              "      <td>Microsoft Lumia 550 8GB 4G Black Microsoft lum...</td>\n",
              "    </tr>\n",
              "    <tr>\n",
              "      <th>50406</th>\n",
              "      <td>Electronics</td>\n",
              "      <td>Microsoft Lumia 535 (Black, 8GB) Colour:Black ...</td>\n",
              "    </tr>\n",
              "    <tr>\n",
              "      <th>50407</th>\n",
              "      <td>Electronics</td>\n",
              "      <td>Karbonn Titanium Wind W4 (White) Karbonn Titan...</td>\n",
              "    </tr>\n",
              "    <tr>\n",
              "      <th>50409</th>\n",
              "      <td>Electronics</td>\n",
              "      <td>Nokia Lumia 530 (Dual SIM, Grey) Colour:Grey  ...</td>\n",
              "    </tr>\n",
              "  </tbody>\n",
              "</table>\n",
              "<p>27801 rows × 2 columns</p>\n",
              "</div>\n",
              "      <button class=\"colab-df-convert\" onclick=\"convertToInteractive('df-91689091-40da-4ce1-a7a0-fca89fff3a9d')\"\n",
              "              title=\"Convert this dataframe to an interactive table.\"\n",
              "              style=\"display:none;\">\n",
              "        \n",
              "  <svg xmlns=\"http://www.w3.org/2000/svg\" height=\"24px\"viewBox=\"0 0 24 24\"\n",
              "       width=\"24px\">\n",
              "    <path d=\"M0 0h24v24H0V0z\" fill=\"none\"/>\n",
              "    <path d=\"M18.56 5.44l.94 2.06.94-2.06 2.06-.94-2.06-.94-.94-2.06-.94 2.06-2.06.94zm-11 1L8.5 8.5l.94-2.06 2.06-.94-2.06-.94L8.5 2.5l-.94 2.06-2.06.94zm10 10l.94 2.06.94-2.06 2.06-.94-2.06-.94-.94-2.06-.94 2.06-2.06.94z\"/><path d=\"M17.41 7.96l-1.37-1.37c-.4-.4-.92-.59-1.43-.59-.52 0-1.04.2-1.43.59L10.3 9.45l-7.72 7.72c-.78.78-.78 2.05 0 2.83L4 21.41c.39.39.9.59 1.41.59.51 0 1.02-.2 1.41-.59l7.78-7.78 2.81-2.81c.8-.78.8-2.07 0-2.86zM5.41 20L4 18.59l7.72-7.72 1.47 1.35L5.41 20z\"/>\n",
              "  </svg>\n",
              "      </button>\n",
              "      \n",
              "  <style>\n",
              "    .colab-df-container {\n",
              "      display:flex;\n",
              "      flex-wrap:wrap;\n",
              "      gap: 12px;\n",
              "    }\n",
              "\n",
              "    .colab-df-convert {\n",
              "      background-color: #E8F0FE;\n",
              "      border: none;\n",
              "      border-radius: 50%;\n",
              "      cursor: pointer;\n",
              "      display: none;\n",
              "      fill: #1967D2;\n",
              "      height: 32px;\n",
              "      padding: 0 0 0 0;\n",
              "      width: 32px;\n",
              "    }\n",
              "\n",
              "    .colab-df-convert:hover {\n",
              "      background-color: #E2EBFA;\n",
              "      box-shadow: 0px 1px 2px rgba(60, 64, 67, 0.3), 0px 1px 3px 1px rgba(60, 64, 67, 0.15);\n",
              "      fill: #174EA6;\n",
              "    }\n",
              "\n",
              "    [theme=dark] .colab-df-convert {\n",
              "      background-color: #3B4455;\n",
              "      fill: #D2E3FC;\n",
              "    }\n",
              "\n",
              "    [theme=dark] .colab-df-convert:hover {\n",
              "      background-color: #434B5C;\n",
              "      box-shadow: 0px 1px 3px 1px rgba(0, 0, 0, 0.15);\n",
              "      filter: drop-shadow(0px 1px 2px rgba(0, 0, 0, 0.3));\n",
              "      fill: #FFFFFF;\n",
              "    }\n",
              "  </style>\n",
              "\n",
              "      <script>\n",
              "        const buttonEl =\n",
              "          document.querySelector('#df-91689091-40da-4ce1-a7a0-fca89fff3a9d button.colab-df-convert');\n",
              "        buttonEl.style.display =\n",
              "          google.colab.kernel.accessAllowed ? 'block' : 'none';\n",
              "\n",
              "        async function convertToInteractive(key) {\n",
              "          const element = document.querySelector('#df-91689091-40da-4ce1-a7a0-fca89fff3a9d');\n",
              "          const dataTable =\n",
              "            await google.colab.kernel.invokeFunction('convertToInteractive',\n",
              "                                                     [key], {});\n",
              "          if (!dataTable) return;\n",
              "\n",
              "          const docLinkHtml = 'Like what you see? Visit the ' +\n",
              "            '<a target=\"_blank\" href=https://colab.research.google.com/notebooks/data_table.ipynb>data table notebook</a>'\n",
              "            + ' to learn more about interactive tables.';\n",
              "          element.innerHTML = '';\n",
              "          dataTable['output_type'] = 'display_data';\n",
              "          await google.colab.output.renderOutput(dataTable, element);\n",
              "          const docLink = document.createElement('div');\n",
              "          docLink.innerHTML = docLinkHtml;\n",
              "          element.appendChild(docLink);\n",
              "        }\n",
              "      </script>\n",
              "    </div>\n",
              "  </div>\n",
              "  "
            ]
          },
          "metadata": {},
          "execution_count": 7
        }
      ],
      "source": [
        "data"
      ]
    },
    {
      "cell_type": "code",
      "execution_count": 8,
      "metadata": {
        "id": "WiQ6uoToJkph"
      },
      "outputs": [],
      "source": [
        "from nltk.corpus import stopwords\n",
        "from sklearn.feature_extraction.text import TfidfVectorizer\n",
        "\n",
        "vectorizer = TfidfVectorizer(stop_words='english', binary=True, max_features=2000)\n",
        "X = vectorizer.fit_transform(data['description'])"
      ]
    },
    {
      "cell_type": "code",
      "execution_count": 9,
      "metadata": {
        "id": "oMWvItRxKxTr"
      },
      "outputs": [],
      "source": [
        "# y = data.category\n",
        "# X = data.description"
      ]
    },
    {
      "cell_type": "code",
      "execution_count": 9,
      "metadata": {
        "id": "ncAYvW-JK1Nx"
      },
      "outputs": [],
      "source": [
        "from sklearn.preprocessing import LabelEncoder\n",
        "\n",
        "# le = LabelEncoder()\n",
        "# y = le.fit_transform(y)\n",
        "# y = pd.DataFrame(y, columns=['Class'])\n",
        "categories = pd.get_dummies(data['category'])\n",
        "y = categories.values\n",
        "\n",
        "# Retrieve the encoding key pair values"
      ]
    },
    {
      "cell_type": "code",
      "execution_count": 11,
      "metadata": {
        "id": "MFtwFmFho0wg"
      },
      "outputs": [],
      "source": [
        "# X_dense = vectorizer.fit_transform(X).toarray()"
      ]
    },
    {
      "cell_type": "code",
      "execution_count": 12,
      "metadata": {
        "colab": {
          "base_uri": "https://localhost:8080/",
          "height": 0
        },
        "id": "PMfvl1R2Zr4K",
        "outputId": "27d58764-3832-4bd7-9e13-5fb42668d0ef"
      },
      "outputs": [
        {
          "output_type": "execute_result",
          "data": {
            "text/plain": [
              "array([[0, 0, 0, 1],\n",
              "       [0, 0, 0, 1],\n",
              "       [0, 0, 0, 1],\n",
              "       ...,\n",
              "       [0, 0, 1, 0],\n",
              "       [0, 0, 1, 0],\n",
              "       [0, 0, 1, 0]], dtype=uint8)"
            ]
          },
          "metadata": {},
          "execution_count": 12
        }
      ],
      "source": [
        "y"
      ]
    },
    {
      "cell_type": "code",
      "execution_count": 13,
      "metadata": {
        "colab": {
          "base_uri": "https://localhost:8080/",
          "height": 0
        },
        "id": "F3V0XUegZumQ",
        "outputId": "e1beb531-b22d-4026-c46a-19aa0ae848d0"
      },
      "outputs": [
        {
          "output_type": "execute_result",
          "data": {
            "text/plain": [
              "<27801x2000 sparse matrix of type '<class 'numpy.float64'>'\n",
              "\twith 901276 stored elements in Compressed Sparse Row format>"
            ]
          },
          "metadata": {},
          "execution_count": 13
        }
      ],
      "source": [
        "X"
      ]
    },
    {
      "cell_type": "code",
      "execution_count": 10,
      "metadata": {
        "colab": {
          "base_uri": "https://localhost:8080/",
          "height": 0
        },
        "id": "7ZeLL1PhK_Sr",
        "outputId": "e3d6f4f9-e821-4e2e-8216-2e94a91e7da1"
      },
      "outputs": [
        {
          "output_type": "execute_result",
          "data": {
            "text/plain": [
              "(19460, 2000)"
            ]
          },
          "metadata": {},
          "execution_count": 10
        }
      ],
      "source": [
        "from sklearn.model_selection import train_test_split\n",
        "# X_train, X_test, y_train, y_test = train_test_split(X_dense, y, test_size = 0.2, train_size = 0.8, random_state=1234)\n",
        "X_dense = X.toarray() \n",
        "X_train, X_temp, y_train, y_temp = train_test_split(X_dense, y, test_size=0.3, random_state=42)\n",
        "X_val, X_test, y_val, y_test = train_test_split(X_temp, y_temp, test_size=0.5, random_state=42)\n",
        "X_train.shape"
      ]
    },
    {
      "cell_type": "code",
      "execution_count": 15,
      "metadata": {
        "id": "WJGcmXbHLg1t"
      },
      "outputs": [],
      "source": [
        "# # Our vectorized labels\n",
        "# import numpy as np\n",
        "# y_train = np.asarray(y_train).astype('float32')\n",
        "# y_test = np.asarray(y_test).astype('float32')"
      ]
    },
    {
      "cell_type": "code",
      "execution_count": 16,
      "metadata": {
        "id": "MWVsrAPdpDWZ"
      },
      "outputs": [],
      "source": [
        "# input_shape = X_train.shape[1]"
      ]
    },
    {
      "cell_type": "code",
      "execution_count": 17,
      "metadata": {
        "id": "ONlDYcWAMCxI"
      },
      "outputs": [],
      "source": [
        "model = Sequential()\n",
        "model.add(Dense(128, activation='relu', input_dim=X_train.shape[1]))\n",
        "model.add(Dropout(0.2))\n",
        "model.add(Dense(64, activation='relu'))\n",
        "model.add(Dropout(0.2))\n",
        "model.add(Dense(y_train.shape[1], activation='softmax'))"
      ]
    },
    {
      "cell_type": "code",
      "execution_count": 18,
      "metadata": {
        "id": "6PeG6TjJSCSo"
      },
      "outputs": [],
      "source": [
        "# compile\n",
        "model.compile(optimizer='adam',\n",
        "              loss='categorical_crossentropy',\n",
        "              metrics=['accuracy'])\n",
        "\n"
      ]
    },
    {
      "cell_type": "code",
      "source": [
        "model.summary()"
      ],
      "metadata": {
        "colab": {
          "base_uri": "https://localhost:8080/",
          "height": 0
        },
        "id": "59CDqscvhISN",
        "outputId": "81955b89-2a49-4502-d8e8-70837fe3bb81"
      },
      "execution_count": 19,
      "outputs": [
        {
          "output_type": "stream",
          "name": "stdout",
          "text": [
            "Model: \"sequential\"\n",
            "_________________________________________________________________\n",
            " Layer (type)                Output Shape              Param #   \n",
            "=================================================================\n",
            " dense (Dense)               (None, 128)               256128    \n",
            "                                                                 \n",
            " dropout (Dropout)           (None, 128)               0         \n",
            "                                                                 \n",
            " dense_1 (Dense)             (None, 64)                8256      \n",
            "                                                                 \n",
            " dropout_1 (Dropout)         (None, 64)                0         \n",
            "                                                                 \n",
            " dense_2 (Dense)             (None, 4)                 260       \n",
            "                                                                 \n",
            "=================================================================\n",
            "Total params: 264,644\n",
            "Trainable params: 264,644\n",
            "Non-trainable params: 0\n",
            "_________________________________________________________________\n"
          ]
        }
      ]
    },
    {
      "cell_type": "code",
      "execution_count": 20,
      "metadata": {
        "id": "2hC2hMzDSg6-"
      },
      "outputs": [],
      "source": [
        "# create a validation set\n",
        "# x_val = X_train[:10000]\n",
        "# partial_x_train = X_train[10000:]\n",
        "\n",
        "# y_val = y_train[:10000]\n",
        "# partial_y_train = y_train[10000:]\n",
        "\n",
        "# sort the indices of partial_x_train\n",
        "# partial_x_train = tf.sparse.reorder(partial_x_train)"
      ]
    },
    {
      "cell_type": "code",
      "execution_count": 21,
      "metadata": {
        "colab": {
          "base_uri": "https://localhost:8080/",
          "height": 0
        },
        "id": "Y8SsSg3dS5zH",
        "outputId": "63909506-c81f-4678-c2dd-f1f5325a2308"
      },
      "outputs": [
        {
          "output_type": "stream",
          "name": "stdout",
          "text": [
            "Epoch 1/10\n",
            "609/609 [==============================] - 14s 7ms/step - loss: 0.3796 - accuracy: 0.8765 - val_loss: 0.2193 - val_accuracy: 0.9396\n",
            "Epoch 2/10\n",
            "609/609 [==============================] - 2s 4ms/step - loss: 0.1859 - accuracy: 0.9467 - val_loss: 0.2209 - val_accuracy: 0.9372\n",
            "Epoch 3/10\n",
            "609/609 [==============================] - 2s 4ms/step - loss: 0.1381 - accuracy: 0.9601 - val_loss: 0.2325 - val_accuracy: 0.9341\n",
            "Epoch 4/10\n",
            "609/609 [==============================] - 3s 5ms/step - loss: 0.1019 - accuracy: 0.9708 - val_loss: 0.2643 - val_accuracy: 0.9312\n",
            "Epoch 5/10\n",
            "609/609 [==============================] - 2s 4ms/step - loss: 0.0720 - accuracy: 0.9800 - val_loss: 0.2994 - val_accuracy: 0.9307\n",
            "Epoch 6/10\n",
            "609/609 [==============================] - 2s 4ms/step - loss: 0.0514 - accuracy: 0.9852 - val_loss: 0.3275 - val_accuracy: 0.9254\n",
            "Epoch 7/10\n",
            "609/609 [==============================] - 2s 4ms/step - loss: 0.0366 - accuracy: 0.9905 - val_loss: 0.3736 - val_accuracy: 0.9230\n",
            "Epoch 8/10\n",
            "609/609 [==============================] - 2s 4ms/step - loss: 0.0258 - accuracy: 0.9927 - val_loss: 0.3977 - val_accuracy: 0.9257\n",
            "Epoch 9/10\n",
            "609/609 [==============================] - 3s 5ms/step - loss: 0.0212 - accuracy: 0.9943 - val_loss: 0.4253 - val_accuracy: 0.9259\n",
            "Epoch 10/10\n",
            "609/609 [==============================] - 2s 4ms/step - loss: 0.0196 - accuracy: 0.9947 - val_loss: 0.4548 - val_accuracy: 0.9249\n"
          ]
        }
      ],
      "source": [
        "# train\n",
        "\n",
        "history = model.fit(X_train, \n",
        "                    y_train, \n",
        "                    epochs=10, \n",
        "                    batch_size=32, \n",
        "                    validation_data=(X_val, y_val))\n",
        "\n"
      ]
    },
    {
      "cell_type": "code",
      "execution_count": 22,
      "metadata": {
        "colab": {
          "base_uri": "https://localhost:8080/",
          "height": 0
        },
        "id": "CSAe9DciqYFQ",
        "outputId": "0f92e0ad-b573-47a1-be17-454fb1eff4b0"
      },
      "outputs": [
        {
          "output_type": "stream",
          "name": "stdout",
          "text": [
            "Test loss: 0.4458572268486023 / Test accuracy: 0.9263965487480164\n"
          ]
        }
      ],
      "source": [
        "# Evaluate the model on the test set\n",
        "score = model.evaluate(X_test, y_test, verbose=0)\n",
        "print(f'Test loss: {score[0]} / Test accuracy: {score[1]}')"
      ]
    },
    {
      "cell_type": "code",
      "execution_count": 23,
      "metadata": {
        "colab": {
          "base_uri": "https://localhost:8080/",
          "height": 0
        },
        "id": "pVGSt4-Xv9zz",
        "outputId": "3f0a1f2b-7418-4ea4-f76f-80df4b5bd9b8"
      },
      "outputs": [
        {
          "output_type": "stream",
          "name": "stdout",
          "text": [
            "131/131 [==============================] - 0s 2ms/step\n",
            "                        precision    recall  f1-score   support\n",
            "\n",
            "                 Books       0.90      0.92      0.91       941\n",
            "Clothing & Accessories       0.95      0.97      0.96       857\n",
            "           Electronics       0.93      0.89      0.91       777\n",
            "             Household       0.92      0.92      0.92      1596\n",
            "\n",
            "              accuracy                           0.93      4171\n",
            "             macro avg       0.93      0.93      0.93      4171\n",
            "          weighted avg       0.93      0.93      0.93      4171\n",
            "\n"
          ]
        }
      ],
      "source": [
        "# use sklearn evaluation\n",
        "import numpy as np\n",
        "from sklearn.metrics import classification_report\n",
        "\n",
        "# Make predictions on the test set\n",
        "y_pred_proba = model.predict(X_test)\n",
        "\n",
        "# Convert predicted probabilities to class labels\n",
        "y_pred = np.argmax(y_pred_proba, axis=1)\n",
        "y_true = np.argmax(y_test, axis=1)\n",
        "\n",
        "# Generate the classification report\n",
        "report = classification_report(y_true, y_pred, target_names=categories.columns)\n",
        "print(report)\n",
        "\n"
      ]
    },
    {
      "cell_type": "code",
      "execution_count": 24,
      "metadata": {
        "colab": {
          "base_uri": "https://localhost:8080/",
          "height": 472
        },
        "id": "Nzo2SJsRxq9O",
        "outputId": "e4e68abb-7f18-438a-cdb5-cd047f9d2a2b"
      },
      "outputs": [
        {
          "output_type": "display_data",
          "data": {
            "text/plain": [
              "<Figure size 640x480 with 1 Axes>"
            ],
            "image/png": "[encoded data removed]"
          },
          "metadata": {}
        }
      ],
      "source": [
        "# plot the training and validation loss\n",
        "import matplotlib.pyplot as plt\n",
        "\n",
        "loss = history.history['loss']\n",
        "val_loss = history.history['val_loss']\n",
        "epochs = range(1, len(loss)+1)\n",
        "\n",
        "plt.plot(epochs, loss, 'bo', label='Training loss')\n",
        "plt.plot(epochs, val_loss, 'b', label='Validation loss')\n",
        "plt.title('Training and validation loss')\n",
        "plt.xlabel('Epochs')\n",
        "plt.ylabel('Loss')\n",
        "plt.legend()\n",
        "\n",
        "plt.show()"
      ]
    },
    {
      "cell_type": "code",
      "execution_count": 25,
      "metadata": {
        "colab": {
          "base_uri": "https://localhost:8080/",
          "height": 472
        },
        "id": "Durq2fJqyHS1",
        "outputId": "22a59b46-3a17-4e15-c746-873fcb1c279a"
      },
      "outputs": [
        {
          "output_type": "display_data",
          "data": {
            "text/plain": [
              "<Figure size 640x480 with 1 Axes>"
            ],
            "image/png": "[encoded data removed]"
          },
          "metadata": {}
        }
      ],
      "source": [
        "# plot the training and validation accuracy\n",
        "\n",
        "plt.clf()   # clear\n",
        "\n",
        "acc = history.history['accuracy']\n",
        "val_acc = history.history['val_accuracy']\n",
        "\n",
        "plt.plot(epochs, acc, 'bo', label='Training acc')\n",
        "plt.plot(epochs, val_acc, 'b', label='Validation acc')\n",
        "plt.title('Training and validation accuracy')\n",
        "plt.xlabel('Epochs')\n",
        "plt.ylabel('Accuracy')\n",
        "plt.legend()\n",
        "\n",
        "plt.show()\n",
        "\n"
      ]
    },
    {
      "cell_type": "markdown",
      "source": [
        "f"
      ],
      "metadata": {
        "id": "7Tp5Tc9qftXG"
      }
    },
    {
      "cell_type": "code",
      "execution_count": 13,
      "metadata": {
        "id": "vVUwko2tz_UN"
      },
      "outputs": [],
      "source": [
        "max_features = 5000\n",
        "maxlen = 250\n",
        "epochs = 10\n",
        "emb_dim = 128\n",
        "batch_size = 256\n",
        "n_most_common_words = 8000\n",
        "max_len = 130"
      ]
    },
    {
      "cell_type": "code",
      "source": [
        "model = Sequential()\n",
        "model.add(Embedding(n_most_common_words, emb_dim, input_length=X.shape[1]))\n",
        "model.add(SpatialDropout1D(0.7))\n",
        "model.add(LSTM(64, dropout=0.7, recurrent_dropout=0.7))\n",
        "model.add(Dense(4, activation='softmax'))\n",
        "model.compile(optimizer='adam', loss='categorical_crossentropy', metrics=['acc'])\n",
        "print(model.summary())\n",
        "history = model.fit(X_train, y_train, epochs=epochs, batch_size=batch_size,validation_data=(X_val, y_val),callbacks=[EarlyStopping(monitor='val_loss',patience=7, min_delta=0.0001)])"
      ],
      "metadata": {
        "colab": {
          "base_uri": "https://localhost:8080/",
          "height": 0
        },
        "id": "SDP-xhxbfuC5",
        "outputId": "e34154e6-de1d-4abd-ad97-a57382fc6e72"
      },
      "execution_count": 27,
      "outputs": [
        {
          "output_type": "stream",
          "name": "stderr",
          "text": [
            "WARNING:tensorflow:Layer lstm will not use cuDNN kernels since it doesn't meet the criteria. It will use a generic GPU kernel as fallback when running on GPU.\n"
          ]
        },
        {
          "output_type": "stream",
          "name": "stdout",
          "text": [
            "Model: \"sequential_1\"\n",
            "_________________________________________________________________\n",
            " Layer (type)                Output Shape              Param #   \n",
            "=================================================================\n",
            " embedding (Embedding)       (None, 2000, 128)         1024000   \n",
            "                                                                 \n",
            " spatial_dropout1d (SpatialD  (None, 2000, 128)        0         \n",
            " ropout1D)                                                       \n",
            "                                                                 \n",
            " lstm (LSTM)                 (None, 64)                49408     \n",
            "                                                                 \n",
            " dense_3 (Dense)             (None, 4)                 260       \n",
            "                                                                 \n",
            "=================================================================\n",
            "Total params: 1,073,668\n",
            "Trainable params: 1,073,668\n",
            "Non-trainable params: 0\n",
            "_________________________________________________________________\n",
            "None\n",
            "Epoch 1/10\n",
            "77/77 [==============================] - 683s 9s/step - loss: 1.3501 - acc: 0.3737 - val_loss: 1.3445 - val_acc: 0.3787\n",
            "Epoch 2/10\n",
            "77/77 [==============================] - 654s 9s/step - loss: 1.3472 - acc: 0.3797 - val_loss: 1.3450 - val_acc: 0.3787\n",
            "Epoch 3/10\n",
            "77/77 [==============================] - 652s 8s/step - loss: 1.3463 - acc: 0.3797 - val_loss: 1.3449 - val_acc: 0.3787\n",
            "Epoch 4/10\n",
            "77/77 [==============================] - 650s 8s/step - loss: 1.3456 - acc: 0.3797 - val_loss: 1.3450 - val_acc: 0.3787\n",
            "Epoch 5/10\n",
            "77/77 [==============================] - 649s 8s/step - loss: 1.3469 - acc: 0.3797 - val_loss: 1.3443 - val_acc: 0.3787\n",
            "Epoch 6/10\n",
            "77/77 [==============================] - 653s 8s/step - loss: 1.3454 - acc: 0.3797 - val_loss: 1.3446 - val_acc: 0.3787\n",
            "Epoch 7/10\n",
            "77/77 [==============================] - 645s 8s/step - loss: 1.3453 - acc: 0.3797 - val_loss: 1.3443 - val_acc: 0.3787\n",
            "Epoch 8/10\n",
            "77/77 [==============================] - 646s 8s/step - loss: 1.3455 - acc: 0.3797 - val_loss: 1.3448 - val_acc: 0.3787\n",
            "Epoch 9/10\n",
            "77/77 [==============================] - 644s 8s/step - loss: 1.3453 - acc: 0.3797 - val_loss: 1.3445 - val_acc: 0.3787\n",
            "Epoch 10/10\n",
            "77/77 [==============================] - 644s 8s/step - loss: 1.3452 - acc: 0.3797 - val_loss: 1.3444 - val_acc: 0.3787\n"
          ]
        }
      ]
    },
    {
      "cell_type": "code",
      "source": [
        "accr = model.evaluate(X_test,y_test)\n",
        "print('Test set\\n  Loss: {:0.3f}\\n  Accuracy: {:0.3f}'.format(accr[0],accr[1]))"
      ],
      "metadata": {
        "colab": {
          "base_uri": "https://localhost:8080/",
          "height": 0
        },
        "id": "V7VGafKfg3Sh",
        "outputId": "51245d60-c8c6-45b0-e097-23de00bb2342"
      },
      "execution_count": 28,
      "outputs": [
        {
          "output_type": "stream",
          "name": "stdout",
          "text": [
            "131/131 [==============================] - 71s 541ms/step - loss: 1.3419 - acc: 0.3826\n",
            "Test set\n",
            "  Loss: 1.342\n",
            "  Accuracy: 0.383\n"
          ]
        }
      ]
    },
    {
      "cell_type": "markdown",
      "metadata": {
        "id": "O_Z2OUwcyd3Z"
      },
      "source": [
        "RNN"
      ]
    },
    {
      "cell_type": "code",
      "execution_count": 18,
      "metadata": {
        "id": "Lhz90lbQyfUZ"
      },
      "outputs": [],
      "source": [
        "rnn = Sequential()\n",
        "rnn.add(layers.Embedding(max_features, 128))\n",
        "rnn.add(Dropout(0.2))\n",
        "rnn.add(layers.SimpleRNN(64, return_sequences=True))\n",
        "rnn.add(Dropout(0.2))\n",
        "rnn.add(layers.SimpleRNN(64))\n",
        "rnn.add(layers.Dense(y_train.shape[1], activation='sigmoid'))"
      ]
    },
    {
      "cell_type": "code",
      "execution_count": 30,
      "metadata": {
        "id": "-LvvQOACnZ_n"
      },
      "outputs": [],
      "source": [
        "# model = Sequential()\n",
        "# model.add(layers.Embedding(max_features, 128))\n",
        "# model.add(layers.SimpleRNN(64, return_sequences=True))\n",
        "# model.add(layers.Dense(64, activation='relu'))\n",
        "# model.add(layers.Dropout(0.2))\n",
        "# model.add(layers.SimpleRNN(64))\n",
        "# model.add(layers.Dense(y_train.shape[1], activation='sigmoid'))"
      ]
    },
    {
      "cell_type": "code",
      "execution_count": 19,
      "metadata": {
        "colab": {
          "base_uri": "https://localhost:8080/",
          "height": 0
        },
        "id": "2BXP5dsC06Vu",
        "outputId": "4a6a6e63-6f79-45d5-c403-2524513d0bf2"
      },
      "outputs": [
        {
          "output_type": "stream",
          "name": "stdout",
          "text": [
            "Model: \"sequential_2\"\n",
            "_________________________________________________________________\n",
            " Layer (type)                Output Shape              Param #   \n",
            "=================================================================\n",
            " embedding_1 (Embedding)     (None, None, 128)         640000    \n",
            "                                                                 \n",
            " dropout (Dropout)           (None, None, 128)         0         \n",
            "                                                                 \n",
            " simple_rnn (SimpleRNN)      (None, None, 64)          12352     \n",
            "                                                                 \n",
            " dropout_1 (Dropout)         (None, None, 64)          0         \n",
            "                                                                 \n",
            " simple_rnn_1 (SimpleRNN)    (None, 64)                8256      \n",
            "                                                                 \n",
            " dense (Dense)               (None, 4)                 260       \n",
            "                                                                 \n",
            "=================================================================\n",
            "Total params: 660,868\n",
            "Trainable params: 660,868\n",
            "Non-trainable params: 0\n",
            "_________________________________________________________________\n"
          ]
        }
      ],
      "source": [
        "rnn.summary()\n",
        "\n"
      ]
    },
    {
      "cell_type": "code",
      "execution_count": 20,
      "metadata": {
        "id": "vEmwFJ9-1COY"
      },
      "outputs": [],
      "source": [
        "# compile\n",
        "rnn.compile(optimizer='adam',\n",
        "              loss='categorical_crossentropy',\n",
        "              metrics=['accuracy'])"
      ]
    },
    {
      "cell_type": "code",
      "execution_count": 21,
      "metadata": {
        "colab": {
          "base_uri": "https://localhost:8080/",
          "height": 0
        },
        "id": "zNLE-MD01BtD",
        "outputId": "35988672-1aa7-44b8-9024-c649f9f98e2a"
      },
      "outputs": [
        {
          "output_type": "stream",
          "name": "stdout",
          "text": [
            "Epoch 1/10\n",
            "609/609 [==============================] - 1201s 2s/step - loss: 1.3652 - accuracy: 0.3669 - val_loss: 1.3457 - val_accuracy: 0.3787\n",
            "Epoch 2/10\n",
            "609/609 [==============================] - 1176s 2s/step - loss: 1.3501 - accuracy: 0.3796 - val_loss: 1.3480 - val_accuracy: 0.3787\n",
            "Epoch 3/10\n",
            "609/609 [==============================] - 1173s 2s/step - loss: 1.3490 - accuracy: 0.3797 - val_loss: 1.3517 - val_accuracy: 0.3787\n",
            "Epoch 4/10\n",
            "609/609 [==============================] - 1171s 2s/step - loss: 1.3489 - accuracy: 0.3797 - val_loss: 1.3489 - val_accuracy: 0.3787\n",
            "Epoch 5/10\n",
            "609/609 [==============================] - 1172s 2s/step - loss: 1.3494 - accuracy: 0.3797 - val_loss: 1.3454 - val_accuracy: 0.3787\n",
            "Epoch 6/10\n",
            "609/609 [==============================] - 1177s 2s/step - loss: 1.3490 - accuracy: 0.3797 - val_loss: 1.3514 - val_accuracy: 0.3787\n",
            "Epoch 7/10\n",
            "609/609 [==============================] - 1183s 2s/step - loss: 1.3489 - accuracy: 0.3797 - val_loss: 1.3574 - val_accuracy: 0.3787\n",
            "Epoch 8/10\n",
            "609/609 [==============================] - 1192s 2s/step - loss: 1.3484 - accuracy: 0.3797 - val_loss: 1.3454 - val_accuracy: 0.3787\n",
            "Epoch 9/10\n",
            "609/609 [==============================] - 1175s 2s/step - loss: 1.3483 - accuracy: 0.3797 - val_loss: 1.3441 - val_accuracy: 0.3787\n",
            "Epoch 10/10\n",
            "609/609 [==============================] - 1176s 2s/step - loss: 1.3505 - accuracy: 0.3797 - val_loss: 1.3594 - val_accuracy: 0.3787\n"
          ]
        }
      ],
      "source": [
        "# train\n",
        "\n",
        "rnn_history = rnn.fit(X_train, \n",
        "                    y_train, \n",
        "                    epochs=3, \n",
        "                    batch_size=32, \n",
        "                    validation_data=(X_val, y_val))"
      ]
    },
    {
      "cell_type": "code",
      "execution_count": null,
      "metadata": {
        "id": "8-KLmatp1H5Z"
      },
      "outputs": [],
      "source": [
        "# use sklearn evaluation\n",
        "\n",
        "from sklearn.metrics import classification_report\n",
        "\n",
        "# Make predictions on the test set\n",
        "y_pred_proba = rnn.predict(X_test)\n",
        "\n",
        "# Convert predicted probabilities to class labels\n",
        "y_pred = np.argmax(y_pred_proba, axis=1)\n",
        "y_true = np.argmax(y_test, axis=1)\n",
        "\n",
        "# Generate the classification report\n",
        "report = classification_report(y_true, y_pred, target_names=categories.columns)\n",
        "print(report)"
      ]
    },
    {
      "cell_type": "code",
      "source": [
        "max_features = 10000\n",
        "maxlen = 250"
      ],
      "metadata": {
        "id": "5a1Mp3NA00b0"
      },
      "execution_count": null,
      "outputs": []
    },
    {
      "cell_type": "code",
      "execution_count": 14,
      "metadata": {
        "id": "gt80NZbC3poi"
      },
      "outputs": [],
      "source": [
        "# build a Sequential model 1D convnet\n",
        "\n",
        "cnn = models.Sequential()\n",
        "cnn.add(layers.Embedding(max_features, 128, input_length=maxlen)) \n",
        "cnn.add(layers.Conv1D(64, 7, activation='relu')) \n",
        "cnn.add(layers.MaxPooling1D(5)) \n",
        "cnn.add(layers.Conv1D(64, 7, activation='relu')) \n",
        "cnn.add(layers.GlobalMaxPooling1D())\n",
        "cnn.add(layers.Dense(y_train.shape[1]))\n",
        "\n"
      ]
    },
    {
      "cell_type": "code",
      "execution_count": 15,
      "metadata": {
        "id": "PwNEgSII4LBT",
        "colab": {
          "base_uri": "https://localhost:8080/",
          "height": 0
        },
        "outputId": "ed91f94b-a55b-4130-a41c-5529a19a16de"
      },
      "outputs": [
        {
          "output_type": "stream",
          "name": "stdout",
          "text": [
            "Model: \"sequential_1\"\n",
            "_________________________________________________________________\n",
            " Layer (type)                Output Shape              Param #   \n",
            "=================================================================\n",
            " embedding (Embedding)       (None, 250, 128)          640000    \n",
            "                                                                 \n",
            " conv1d (Conv1D)             (None, 244, 64)           57408     \n",
            "                                                                 \n",
            " max_pooling1d (MaxPooling1D  (None, 48, 64)           0         \n",
            " )                                                               \n",
            "                                                                 \n",
            " conv1d_1 (Conv1D)           (None, 42, 64)            28736     \n",
            "                                                                 \n",
            " global_max_pooling1d (Globa  (None, 64)               0         \n",
            " lMaxPooling1D)                                                  \n",
            "                                                                 \n",
            " dense (Dense)               (None, 4)                 260       \n",
            "                                                                 \n",
            "=================================================================\n",
            "Total params: 726,404\n",
            "Trainable params: 726,404\n",
            "Non-trainable params: 0\n",
            "_________________________________________________________________\n"
          ]
        }
      ],
      "source": [
        "cnn.summary()\n",
        "\n"
      ]
    },
    {
      "cell_type": "code",
      "execution_count": 17,
      "metadata": {
        "id": "jhywI1ja5IR0"
      },
      "outputs": [],
      "source": [
        "cnn.compile(optimizer=tf.keras.optimizers.RMSprop(learning_rate=1e-4),  # set learning rate\n",
        "              loss='categorical_crossentropy',\n",
        "              metrics=['accuracy'])"
      ]
    },
    {
      "cell_type": "code",
      "execution_count": null,
      "metadata": {
        "id": "KF1oVBnx5Iqa"
      },
      "outputs": [],
      "source": [
        "cnn_history = cnn.fit(X_train, \n",
        "                    y_train, \n",
        "                    epochs=3, \n",
        "                    batch_size=32, \n",
        "                    validation_data=(X_val, y_val))"
      ]
    },
    {
      "cell_type": "code",
      "execution_count": null,
      "metadata": {
        "id": "xlojyJMA5aLF"
      },
      "outputs": [],
      "source": [
        "from sklearn.metrics import classification_report\n",
        "\n",
        "# Make predictions on the test set\n",
        "y_pred_proba = cnn.predict(X_test)\n",
        "\n",
        "# Convert predicted probabilities to class labels\n",
        "y_pred = np.argmax(y_pred_proba, axis=1)\n",
        "y_true = np.argmax(y_test, axis=1)\n",
        "\n",
        "# Generate the classification report\n",
        "report = classification_report(y_true, y_pred, target_names=categories.columns)\n",
        "print(report)"
      ]
    },
    {
      "cell_type": "markdown",
      "metadata": {
        "id": "cXlAhVjQptbC"
      },
      "source": [
        "Embeddings"
      ]
    },
    {
      "cell_type": "markdown",
      "metadata": {
        "id": "5RMzEmIGXUk6"
      },
      "source": [
        "LTSM\n"
      ]
    },
    {
      "cell_type": "code",
      "execution_count": 19,
      "metadata": {
        "id": "mKR5hC_ye4xr"
      },
      "outputs": [],
      "source": [
        "max_features = 10000 # or the size of your vocabulary\n",
        "embedding_dim = 128   # Increase the embedding dimensions\n",
        "lstm_units = 64      # Increase the LSTM units\n",
        "dropout_rate = 0.5   # Add dropout to prevent overfitting"
      ]
    },
    {
      "cell_type": "code",
      "execution_count": 20,
      "metadata": {
        "id": "CrVX5600XTzf"
      },
      "outputs": [],
      "source": [
        "model = models.Sequential()\n",
        "model.add(layers.Embedding(max_features, embedding_dim))\n",
        "model.add(layers.SpatialDropout1D(dropout_rate))\n",
        "model.add(layers.Bidirectional(layers.LSTM(lstm_units, return_sequences=True))) # Add bidirectional LSTM\n",
        "model.add(layers.GlobalMaxPool1D())\n",
        "model.add(layers.Dense(64, activation='relu'))\n",
        "model.add(layers.Dropout(dropout_rate))\n",
        "model.add(layers.Dense(y_train.shape[1], activation='softmax')) # Use softmax activation for multi-class classification\n"
      ]
    },
    {
      "cell_type": "code",
      "execution_count": 21,
      "metadata": {
        "id": "I2RiAwnxXY-u",
        "colab": {
          "base_uri": "https://localhost:8080/",
          "height": 0
        },
        "outputId": "524b0c7e-2387-426e-c334-885a0a87dfa6"
      },
      "outputs": [
        {
          "output_type": "stream",
          "name": "stdout",
          "text": [
            "Model: \"sequential_2\"\n",
            "_________________________________________________________________\n",
            " Layer (type)                Output Shape              Param #   \n",
            "=================================================================\n",
            " embedding_1 (Embedding)     (None, None, 128)         1280000   \n",
            "                                                                 \n",
            " spatial_dropout1d (SpatialD  (None, None, 128)        0         \n",
            " ropout1D)                                                       \n",
            "                                                                 \n",
            " bidirectional (Bidirectiona  (None, None, 128)        98816     \n",
            " l)                                                              \n",
            "                                                                 \n",
            " global_max_pooling1d_1 (Glo  (None, 128)              0         \n",
            " balMaxPooling1D)                                                \n",
            "                                                                 \n",
            " dense_1 (Dense)             (None, 64)                8256      \n",
            "                                                                 \n",
            " dropout (Dropout)           (None, 64)                0         \n",
            "                                                                 \n",
            " dense_2 (Dense)             (None, 4)                 260       \n",
            "                                                                 \n",
            "=================================================================\n",
            "Total params: 1,387,332\n",
            "Trainable params: 1,387,332\n",
            "Non-trainable params: 0\n",
            "_________________________________________________________________\n"
          ]
        }
      ],
      "source": [
        "model.summary()\n",
        "\n"
      ]
    },
    {
      "cell_type": "code",
      "execution_count": 22,
      "metadata": {
        "id": "M7cUlzLDXba9"
      },
      "outputs": [],
      "source": [
        "# compile\n",
        "model.compile(optimizer='adam',\n",
        "              loss='categorical_crossentropy',\n",
        "              metrics=['accuracy'])"
      ]
    },
    {
      "cell_type": "code",
      "execution_count": null,
      "metadata": {
        "id": "pFInDOTJXcgm"
      },
      "outputs": [],
      "source": [
        "# train\n",
        "model = model.fit(X_train, \n",
        "                    y_train, \n",
        "                    epochs=3, \n",
        "                    batch_size=128, \n",
        "                    validation_data=(X_val, y_val))"
      ]
    },
    {
      "cell_type": "markdown",
      "metadata": {
        "id": "x0vmmmWIjHZw"
      },
      "source": [
        "1"
      ]
    },
    {
      "cell_type": "code",
      "execution_count": null,
      "metadata": {
        "id": "DhQ6CUXglAAi"
      },
      "outputs": [],
      "source": [
        "max_features= 2000\n",
        "embedding_dim= 128\n",
        "lstm_units= 128\n",
        "gru_units= 128\n",
        "filters= 64\n",
        "kernel_size= 3\n",
        "pool_size= 2\n",
        "dropout_rate= 0.5"
      ]
    },
    {
      "cell_type": "markdown",
      "source": [
        "Analysis\n",
        "\n",
        "Using a simple Sequential Model seems to be the best approach to classifying the text using the data set I used. I used an Eccommerce data set in which the goal is to classify an item based on the Items description. There were four different classes - Household, Books, Electronics and Clothing & Accessories.\n",
        "\n",
        "Using the Dense_Sequential Model, the model trained fast and I got a 93 % testing accuracy. But for what ever reason, when I used Archtectures like SimpleRNN , CNN , LTSM, etc, it takes over 2hrs to train and the accuracy is lower than 40%. I have not figured out why this is happening but i will keep looking into it."
      ],
      "metadata": {
        "id": "6PKmNMX34aeu"
      }
    }
  ],
  "metadata": {
    "colab": {
      "provenance": [],
      "authorship_tag": "ABX9TyP0ATsVp6Sxt1vDD1gXKsrM",
      "include_colab_link": true
    },
    "kernelspec": {
      "display_name": "Python 3",
      "name": "python3"
    },
    "language_info": {
      "name": "python"
    },
    "accelerator": "GPU",
    "gpuClass": "standard"
  },
  "nbformat": 4,
  "nbformat_minor": 0
}